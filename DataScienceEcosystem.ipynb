{
 "cells": [
  {
   "cell_type": "markdown",
   "id": "a3c53cfe-3fd0-46f1-9ff0-ecde09e7e234",
   "metadata": {},
   "source": [
    "# Data Science Tools and Ecosystem"
   ]
  },
  {
   "cell_type": "markdown",
   "id": "08778673-62e8-418f-8063-14ba10b18cf1",
   "metadata": {},
   "source": [
    "In this notebook, Data Science Tools and Ecosystem are summarized."
   ]
  },
  {
   "cell_type": "markdown",
   "id": "a08aa63e-504f-4710-bcf2-de422276381b",
   "metadata": {},
   "source": [
    "Some of the popular languages that Data Scientists use are:\n",
    "1) R\n",
    "2) Python\n",
    "3) SQL"
   ]
  },
  {
   "cell_type": "markdown",
   "id": "ce0334a0-d20d-406b-ae16-92ac3a6c9058",
   "metadata": {},
   "source": [
    "Some of the commonly used libraries used by Data Scientists include:\n",
    "1) pandas\n",
    "2) numpy\n",
    "3) matplotlib\n",
    "4) TensorFlow\n",
    "5) PyTorch\n",
    "6) seaborn"
   ]
  },
  {
   "cell_type": "markdown",
   "id": "68fda2f5-7561-4fe3-a1b6-250304edb938",
   "metadata": {},
   "source": [
    "| Data Science Tools |\n",
    "| ------------------- |\n",
    "| Jupyter Notebook |\n",
    "| RStudio |\n",
    "| Apache Zeppelin |"
   ]
  },
  {
   "cell_type": "markdown",
   "id": "26345ec2-cd07-47d9-81e4-35f0e4f5dd21",
   "metadata": {},
   "source": [
    "### Below are a few examples of evaluating arithmetic expressions in Python"
   ]
  },
  {
   "cell_type": "code",
   "execution_count": 4,
   "id": "846e61d0-dbeb-48f5-98c2-aeb85a7d99c2",
   "metadata": {},
   "outputs": [
    {
     "data": {
      "text/plain": [
       "17"
      ]
     },
     "execution_count": 4,
     "metadata": {},
     "output_type": "execute_result"
    }
   ],
   "source": [
    "#This a simple arithmetic expression to mutiply then add integers\n",
    "(3*4)+5"
   ]
  },
  {
   "cell_type": "code",
   "execution_count": 5,
   "id": "32161b3d-75c3-4f1a-b162-3a78ad8a5365",
   "metadata": {},
   "outputs": [
    {
     "data": {
      "text/plain": [
       "3.3333333333333335"
      ]
     },
     "execution_count": 5,
     "metadata": {},
     "output_type": "execute_result"
    }
   ],
   "source": [
    "#This will convert 200 minutes to hours by diving by 60\n",
    "200/60"
   ]
  },
  {
   "cell_type": "markdown",
   "id": "bdd7eb1e-a5b7-4a6f-94a4-f9afda1436bb",
   "metadata": {},
   "source": [
    "**Objectives:**\n",
    "- List popular languages for Data Science\n",
    "- List popular Tools used for Data Science\n",
    "- List popular libraries used in Data Science\n",
    "- Introduction to Jupyter Notebook\n",
    "- Introduction to R"
   ]
  },
  {
   "cell_type": "markdown",
   "id": "e00af6e7-2e3a-4387-82c7-99cbf8412a5e",
   "metadata": {},
   "source": [
    "## Author\n",
    "Aarchishya Kapoor"
   ]
  },
  {
   "cell_type": "code",
   "execution_count": null,
   "id": "cf6be70f-dd85-4775-b80f-1d94cddbc185",
   "metadata": {},
   "outputs": [],
   "source": []
  }
 ],
 "metadata": {
  "kernelspec": {
   "display_name": "Python 3 (ipykernel)",
   "language": "python",
   "name": "python3"
  },
  "language_info": {
   "codemirror_mode": {
    "name": "ipython",
    "version": 3
   },
   "file_extension": ".py",
   "mimetype": "text/x-python",
   "name": "python",
   "nbconvert_exporter": "python",
   "pygments_lexer": "ipython3",
   "version": "3.12.9"
  }
 },
 "nbformat": 4,
 "nbformat_minor": 5
}
